{
 "cells": [
  {
   "cell_type": "markdown",
   "metadata": {},
   "source": [
    "\n",
    "\n",
    "----------------------------------------------------------------------------------------------------\n",
    "----------------------------------------------------------------------------------------------------\n",
    "<h1><center>\n",
    "    \n",
    "Exam version A\n",
    " \n",
    "( 7th of November, 2019 )\n",
    "</center></h1>    \n",
    "\n",
    "----------------------------------------------------------------------------------------------------\n",
    "----------------------------------------------------------------------------------------------------\n",
    "\n",
    "Please read the exercices carefully, write the necesary code and respond to all the questions. The code needs to be properly commented.\n"
   ]
  },
  {
   "cell_type": "code",
   "execution_count": null,
   "metadata": {},
   "outputs": [],
   "source": [
    "import numpy as np # useful for manipulating matrices\n",
    "from matplotlib import pyplot as plt # useful for plotting images on iPython or Jupyter Notebooks\n",
    "from skimage import *"
   ]
  },
  {
   "cell_type": "markdown",
   "metadata": {},
   "source": [
    "# Exercise 1  (2 points)\n",
    "\n",
    "**(a) (2 points)** - Load the grayscale image `circles.bmp` stored in the `images` directory and visualize it. Convert it into a color image where the first circle should become red, the second - green and the third - blue, as it is shown below.\n",
    " \n",
    "<img src=\"images/circles_rgb.bmp\" width=\"200\">"
   ]
  },
  {
   "cell_type": "code",
   "execution_count": 60,
   "metadata": {
    "scrolled": true
   },
   "outputs": [
    {
     "data": {
      "image/png": "[encoded data removed]",
      "text/plain": [
       "<Figure size 432x288 with 1 Axes>"
      ]
     },
     "metadata": {
      "needs_background": "light"
     },
     "output_type": "display_data"
    },
    {
     "name": "stdout",
     "output_type": "stream",
     "text": [
      "[  0 127 195 255]\n"
     ]
    },
    {
     "data": {
      "image/png": "[encoded data removed]",
      "text/plain": [
       "<Figure size 432x288 with 1 Axes>"
      ]
     },
     "metadata": {
      "needs_background": "light"
     },
     "output_type": "display_data"
    }
   ],
   "source": [
    "from skimage import *\n",
    "import numpy as np\n",
    "import skimage\n",
    "from skimage import io\n",
    "from skimage.color import rgb2gray, gray2rgb\n",
    "\n",
    "import matplotlib.pyplot as plt\n",
    "%matplotlib inline\n",
    "cercle = io.imread('images/circles.bmp')\n",
    "io.imshow(cercle)\n",
    "plt.show()\n",
    "cercle1, cercle2, cercle3 = cercle.copy(), cercle.copy(), cercle.copy()\n",
    "\n",
    "a = np.unique(cercle)\n",
    "print(a)\n",
    "#cerclergb = gray2rgb(cercle)\n",
    "cercle[cercle==0]= cercle1[:,:,0]=255\n",
    "cercle[cercle!= 127]= cercle[:,:,1]=255\n",
    "#cercle[cercle3!=195]= cercle3[:,:,2]=255\n",
    "io.imshow(cercle)\n",
    "plt.show()"
   ]
  },
  {
   "cell_type": "markdown",
   "metadata": {},
   "source": [
    "# Exercise 2  (4 points)\n",
    "**(a) (4 points)** - Load the image collection stored in `images/bigbang/*.png`, and rescale to half of their size. It contains a video sequence with two persons who should be anonymized. Instead of blurrying the whole image, we want to define two static rectangular areas that are as small as possible. These two areas should be blurried, ensuring that both faces cannot be clearly seen.\n",
    "\n",
    "The two rectangular areas should be determined manually. For this purpose, it is sufficient to display one image of the sequence using `imshow` and pay attention to the approximate pixel coordinates where the faces of the two persons fall.\n",
    "\n",
    "Below there is an example of the expected result for a given frame:\n",
    "\n",
    "<img src=\"images/bigbang_example.png\" width=\"500\">"
   ]
  },
  {
   "cell_type": "code",
   "execution_count": 9,
   "metadata": {
    "scrolled": false
   },
   "outputs": [
    {
     "name": "stdout",
     "output_type": "stream",
     "text": [
      "Info about the animation:\n",
      "Num Frames:99\n",
      "Images height:180\n",
      "Images width:320\n",
      "shape image is: (180, 320, 3, 99)\n"
     ]
    },
    {
     "ename": "NameError",
     "evalue": "name 'gaussian' is not defined",
     "output_type": "error",
     "traceback": [
      "\u001b[0;31m---------------------------------------------------------------------------\u001b[0m",
      "\u001b[0;31mNameError\u001b[0m                                 Traceback (most recent call last)",
      "\u001b[0;32m<ipython-input-9-0c8ade154846>\u001b[0m in \u001b[0;36m<module>\u001b[0;34m\u001b[0m\n\u001b[1;32m     42\u001b[0m \u001b[0mget_ipython\u001b[0m\u001b[0;34m(\u001b[0m\u001b[0;34m)\u001b[0m\u001b[0;34m.\u001b[0m\u001b[0mrun_line_magic\u001b[0m\u001b[0;34m(\u001b[0m\u001b[0;34m'matplotlib'\u001b[0m\u001b[0;34m,\u001b[0m \u001b[0;34m'nbagg'\u001b[0m\u001b[0;34m)\u001b[0m\u001b[0;34m\u001b[0m\u001b[0;34m\u001b[0m\u001b[0m\n\u001b[1;32m     43\u001b[0m \u001b[0mmask_2d\u001b[0m\u001b[0;34m=\u001b[0m\u001b[0mnp\u001b[0m\u001b[0;34m.\u001b[0m\u001b[0mones\u001b[0m\u001b[0;34m(\u001b[0m\u001b[0;34m(\u001b[0m\u001b[0;36m7\u001b[0m\u001b[0;34m,\u001b[0m\u001b[0;36m7\u001b[0m\u001b[0;34m)\u001b[0m\u001b[0;34m)\u001b[0m\u001b[0;34m\u001b[0m\u001b[0;34m\u001b[0m\u001b[0m\n\u001b[0;32m---> 44\u001b[0;31m \u001b[0mmask_2d\u001b[0m\u001b[0;34m=\u001b[0m\u001b[0mgaussian\u001b[0m\u001b[0;34m(\u001b[0m\u001b[0mmask_2d\u001b[0m\u001b[0;34m,\u001b[0m \u001b[0msigma\u001b[0m\u001b[0;34m=\u001b[0m\u001b[0;36m5\u001b[0m\u001b[0;34m,\u001b[0m\u001b[0mmultichannel\u001b[0m\u001b[0;34m=\u001b[0m\u001b[0;32mTrue\u001b[0m\u001b[0;34m)\u001b[0m\u001b[0;34m\u001b[0m\u001b[0;34m\u001b[0m\u001b[0m\n\u001b[0m\u001b[1;32m     45\u001b[0m \u001b[0;34m\u001b[0m\u001b[0m\n\u001b[1;32m     46\u001b[0m \u001b[0;32mdef\u001b[0m \u001b[0mfigure\u001b[0m\u001b[0;34m(\u001b[0m\u001b[0mi\u001b[0m\u001b[0;34m)\u001b[0m\u001b[0;34m:\u001b[0m\u001b[0;34m\u001b[0m\u001b[0;34m\u001b[0m\u001b[0m\n",
      "\u001b[0;31mNameError\u001b[0m: name 'gaussian' is not defined"
     ]
    }
   ],
   "source": [
    "#We show the solution to show for each animation two videos\n",
    "\n",
    "from skimage import io\n",
    "import numpy as np\n",
    "from skimage import transform\n",
    "from matplotlib import pyplot as plt\n",
    "import matplotlib.animation as animation\n",
    "from skimage import filters, util\n",
    "\n",
    "ic = io.ImageCollection('images/bigbang/*.png')\n",
    "\n",
    "# Here we change the scale to half its size\n",
    "scale=0.5\n",
    "frames = len(ic)\n",
    "height=np.int((ic[0].shape[0])*scale)\n",
    "width=np.int((ic[0].shape[1])*scale)\n",
    "\n",
    "#We show the relevant information \n",
    "\n",
    "print('Info about the animation:')\n",
    "print('Num Frames:' + str(frames))\n",
    "print('Images height:' + str(height))\n",
    "print('Images width:' + str(width))\n",
    "\n",
    "\n",
    "\n",
    "# create variable with dimensions of images by the number of frames\n",
    "\n",
    "number_frames=np.ndarray(shape=(height,width,3,frames))\n",
    "\n",
    "# we combinate with numer_number frames\n",
    "for i in range(frames):\n",
    "        number_frames[:,:,:,i]=transform.rescale(ic[i],scale)\n",
    "        \n",
    "print('shape image is: ' + str(number_frames.shape))\n",
    "\n",
    "# \n",
    "# We create new mask \n",
    "#\n",
    "\n",
    "#we use the plugin now\n",
    "%matplotlib nbagg\n",
    "mask_2d=np.ones((7,7))\n",
    "mask_2d=gaussian(mask_2d, sigma=5,multichannel=True)\n",
    "\n",
    "def figure(i):\n",
    "    imm.set_array(conv_color(number_frames[:,:,:,i], mask_2d)) # we plot the convolved image with the mask_2d\n",
    "    plt.draw()\n",
    "    return imm,\n",
    "\n",
    "\n",
    "def figure(i):\n",
    "    imm.set_array(conv_color(number_frames[:,:,:,i], mask_2d)) # we plot the convolved image with the mask_2d\n",
    "    plt.draw()\n",
    "    return imm,\n",
    "\n",
    "fig, ax1 = plt.subplots(1,1, figsize=(10,10))\n",
    "image_0=number_frames[:,:,:,0]\n",
    "image_1=ax1.imshow(image_0)\n",
    "plt.show()\n",
    "#ani = animation.FuncAnimation(fig, figure, interval=2,blit=Fla, repeat=False, frames=len(ic))\n",
    "ani = animation.FuncAnimation(fig, figure, interval=5, blit=False, frames=400, repeat= False)\n",
    "plt.show()"
   ]
  },
  {
   "cell_type": "markdown",
   "metadata": {},
   "source": [
    "# Exercise 3 (4 points)\n",
    "**(a) (1 point)** Load the video in the folder `images/Barcelona-sequenceA`. Plot the first, middle and last frame in a 1x3 plot. Include titles in all images.\n",
    "\n",
    "<img src=\"images/Barcelona-sequenceA/Barcelona-frame00104.png\" width=\"200\">"
   ]
  },
  {
   "cell_type": "code",
   "execution_count": null,
   "metadata": {},
   "outputs": [],
   "source": [
    "import numpy as np\n",
    "import skimage\n",
    "from skimage import io\n",
    "import matplotlib.pyplot as plt\n",
    "%matplotlib inline\n",
    "\n",
    "ic = io.ImageCollection('images/Barcelona-sequenceA/*.png')\n",
    "\n",
    "first = ic[0]\n",
    "middle = ic[int(len(ic)/2)]\n",
    "last = ic[-1]\n",
    "f, axarr = plt.subplots(ncols=3,figsize=(16,14))\n",
    "axarr[0].imshow(first)\n",
    "axarr[0].set_title('First')\n",
    "axarr[1].imshow(middle)\n",
    "axarr[1].set_title('Middle image')\n",
    "axarr[2].imshow(last)\n",
    "axarr[2].set_title('Last image')\n",
    "\n"
   ]
  },
  {
   "cell_type": "markdown",
   "metadata": {},
   "source": [
    "**(b) (2 points)** Now, in a 1x3 plot, show the frame, background, foreground image for the middle frame."
   ]
  },
  {
   "cell_type": "code",
   "execution_count": null,
   "metadata": {
    "scrolled": true
   },
   "outputs": [],
   "source": [
    "import numpy as np\n",
    "import skimage\n",
    "from skimage import io\n",
    "import matplotlib.pyplot as plt\n",
    "from skimage import filters\n",
    "from skimage import morphology\n",
    "\n",
    "%matplotlib inline\n",
    "\n",
    "\n",
    "\n",
    "def generate_bg_fg(inicial, final):\n",
    "    size = list(ic[0].shape)\n",
    "    background = np.zeros(size)\n",
    "\n",
    "    images = list()\n",
    "    red_channel = list()\n",
    "    green_channel = list()\n",
    "    blue_channel = list()\n",
    "    \n",
    "#Obtain the foreground image (e.g. using the median filter).\n",
    "\n",
    "    for i in range(inicial, final + 1):\n",
    "        \n",
    "        images.append(img_as_float(ic[i]))\n",
    "        red_channel.append(img_as_float(ic[i][:,:,0])) #add to a list each channel of each image\n",
    "        green_channel.append(img_as_float(ic[i][:,:,1]))\n",
    "        blue_channel.append(img_as_float(ic[i][:,:,2]))\n",
    "\n",
    "    background[:,:,0] = np.median(red_channel,axis=0) #apply median filter for each channel\n",
    "    background[:,:,1] = np.median(green_channel,axis=0)\n",
    "    background[:,:,2] = np.median(blue_channel,axis=0)\n",
    "    \n",
    "    foreground = np.abs(images[0] - background) #foreground is the difference between the original image and the background\n",
    "    \n",
    "    return (background, foreground)\n",
    "imagen = generate_bg_fg(middle, last)\n",
    "\n",
    "#Algoritmo\n",
    "print(\"shape of image: {}\".format(middle.shape))\n",
    "print(\"dtype of image: {}\".format(middle.dtype))\n",
    "\n",
    "axarr[0].imshow(middle)\n",
    "axarr[0].set_title('Frame')\n",
    "axarr[1].imshow(imagen[0])\n",
    "axarr[1].set_title('background')\n",
    "axarr[2].imshow(imagen[1])\n",
    "axarr[2].set_title('foreground')\n",
    "\n"
   ]
  },
  {
   "cell_type": "markdown",
   "metadata": {},
   "source": [
    " **(c) (1 point)** Apply the SLIC segmentation method to the first 20 frames and calculate the number of segments per frame. Provide the frame number of the frame with the highest number of segments and plot it. "
   ]
  },
  {
   "cell_type": "markdown",
   "metadata": {},
   "source": [
    "<img src=\"images/final_result.png\" width=\"500\">"
   ]
  },
  {
   "cell_type": "code",
   "execution_count": null,
   "metadata": {},
   "outputs": [],
   "source": [
    "from skimage import segmentation \n",
    "shot = 0\n",
    "while shot <20:\n",
    "    slic_image = segmentation.slic(ic[shot], n_segments=250, compactness=10, sigma=1)\n",
    "    shot +=1\n",
    "#falta terminar\n"
   ]
  },
  {
   "cell_type": "code",
   "execution_count": null,
   "metadata": {},
   "outputs": [],
   "source": []
  }
 ],
 "metadata": {
  "kernelspec": {
   "display_name": "Python 3",
   "language": "python",
   "name": "python3"
  },
  "language_info": {
   "codemirror_mode": {
    "name": "ipython",
    "version": 3
   },
   "file_extension": ".py",
   "mimetype": "text/x-python",
   "name": "python",
   "nbconvert_exporter": "python",
   "pygments_lexer": "ipython3",
   "version": "3.7.5"
  }
 },
 "nbformat": 4,
 "nbformat_minor": 2
}
