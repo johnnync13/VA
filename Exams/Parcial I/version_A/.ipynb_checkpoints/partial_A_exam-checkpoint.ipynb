{
 "cells": [
  {
   "cell_type": "markdown",
   "metadata": {},
   "source": [
    "\n",
    "\n",
    "----------------------------------------------------------------------------------------------------\n",
    "----------------------------------------------------------------------------------------------------\n",
    "<h1><center>\n",
    "    \n",
    "Exam version A\n",
    " \n",
    "( 7th of November, 2019 )\n",
    "</center></h1>    \n",
    "\n",
    "----------------------------------------------------------------------------------------------------\n",
    "----------------------------------------------------------------------------------------------------\n",
    "\n",
    "Please read the exercices carefully, write the necesary code and respond to all the questions. The code needs to be properly commented.\n"
   ]
  },
  {
   "cell_type": "markdown",
   "metadata": {},
   "source": [
    "# Exercise 1  (2 points)\n",
    "\n",
    "**(a) (2 points)** - Load the grayscale image `circles.bmp` stored in the `images` directory and visualize it. Convert it into a color image where the first circle should become red, the second - green and the third - blue, as it is shown below.\n",
    " \n",
    "<img src=\"images/circles_rgb.bmp\" width=\"200\">"
   ]
  },
  {
   "cell_type": "code",
   "execution_count": 10,
   "metadata": {
    "scrolled": true
   },
   "outputs": [
    {
     "data": {
      "image/png": "[encoded data removed]",
      "text/plain": [
       "<Figure size 432x288 with 1 Axes>"
      ]
     },
     "metadata": {
      "needs_background": "light"
     },
     "output_type": "display_data"
    },
    {
     "name": "stdout",
     "output_type": "stream",
     "text": [
      "[  0 127 195 255]\n"
     ]
    },
    {
     "data": {
      "image/png": "[encoded data removed]",
      "text/plain": [
       "<Figure size 432x288 with 1 Axes>"
      ]
     },
     "metadata": {
      "needs_background": "light"
     },
     "output_type": "display_data"
    }
   ],
   "source": [
    "from skimage import *\n",
    "import numpy as np\n",
    "import skimage\n",
    "from skimage import io\n",
    "import matplotlib.pyplot as plt\n",
    "%matplotlib inline\n",
    "noisyPears = io.imread('images/circles.bmp')\n",
    "io.imshow(noisyPears)\n",
    "plt.show()\n",
    "\n",
    "\n",
    "a = np.unique(noisyPears)\n",
    "print(a)\n",
    "noisyPears[noisyPears == 127] = noisyPears[:,:,0]= 255\n",
    "\n",
    "\n",
    "io.imshow(noisyPears)\n",
    "plt.show()"
   ]
  },
  {
   "cell_type": "markdown",
   "metadata": {},
   "source": [
    "# Exercise 2  (4 points)\n",
    "**(a) (4 points)** - Load the image collection stored in `images/bigbang/*.png`, and rescale to half of their size. It contains a video sequence with two persons who should be anonymized. Instead of blurrying the whole image, we want to define two static rectangular areas that are as small as possible. These two areas should be blurried, ensuring that both faces cannot be clearly seen.\n",
    "\n",
    "The two rectangular areas should be determined manually. For this purpose, it is sufficient to display one image of the sequence using `imshow` and pay attention to the approximate pixel coordinates where the faces of the two persons fall.\n",
    "\n",
    "Below there is an example of the expected result for a given frame:\n",
    "\n",
    "<img src=\"images/bigbang_example.png\" width=\"500\">"
   ]
  },
  {
   "cell_type": "code",
   "execution_count": null,
   "metadata": {
    "collapsed": true,
    "scrolled": false
   },
   "outputs": [],
   "source": []
  },
  {
   "cell_type": "markdown",
   "metadata": {},
   "source": [
    "# Exercise 3 (4 points)\n",
    "**(a) (1 point)** Load the video in the folder `images/Barcelona-sequenceA`. Plot the first, middle and last frame in a 1x3 plot. Include titles in all images.\n",
    "\n",
    "<img src=\"images/Barcelona-sequenceA/Barcelona-frame00104.png\" width=\"200\">"
   ]
  },
  {
   "cell_type": "code",
   "execution_count": null,
   "metadata": {
    "collapsed": true
   },
   "outputs": [],
   "source": []
  },
  {
   "cell_type": "markdown",
   "metadata": {},
   "source": [
    "**(b) (2 points)** Now, in a 1x3 plot, show the frame, background, foreground image for the middle frame."
   ]
  },
  {
   "cell_type": "code",
   "execution_count": null,
   "metadata": {
    "collapsed": true,
    "scrolled": true
   },
   "outputs": [],
   "source": []
  },
  {
   "cell_type": "markdown",
   "metadata": {},
   "source": [
    " **(c) (1 point)** Apply the SLIC segmentation method to the first 20 frames and calculate the number of segments per frame. Provide the frame number of the frame with the highest number of segments and plot it. "
   ]
  },
  {
   "cell_type": "markdown",
   "metadata": {},
   "source": [
    "<img src=\"images/final_result.png\" width=\"500\">"
   ]
  },
  {
   "cell_type": "code",
   "execution_count": null,
   "metadata": {
    "collapsed": true
   },
   "outputs": [],
   "source": []
  },
  {
   "cell_type": "code",
   "execution_count": null,
   "metadata": {
    "collapsed": true
   },
   "outputs": [],
   "source": []
  }
 ],
 "metadata": {
  "kernelspec": {
   "display_name": "Python 3",
   "language": "python",
   "name": "python3"
  },
  "language_info": {
   "codemirror_mode": {
    "name": "ipython",
    "version": 3
   },
   "file_extension": ".py",
   "mimetype": "text/x-python",
   "name": "python",
   "nbconvert_exporter": "python",
   "pygments_lexer": "ipython3",
   "version": "3.7.4"
  }
 },
 "nbformat": 4,
 "nbformat_minor": 2
}
